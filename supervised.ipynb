{
 "metadata": {
  "language_info": {
   "codemirror_mode": {
    "name": "ipython",
    "version": 3
   },
   "file_extension": ".py",
   "mimetype": "text/x-python",
   "name": "python",
   "nbconvert_exporter": "python",
   "pygments_lexer": "ipython3",
   "version": "3.8.2-final"
  },
  "orig_nbformat": 2,
  "kernelspec": {
   "name": "python38264bitbasecondadc9a7fa815ec46a197cb47742742cd97",
   "display_name": "Python 3.8.2 64-bit ('base': conda)"
  }
 },
 "nbformat": 4,
 "nbformat_minor": 2,
 "cells": [
  {
   "cell_type": "code",
   "execution_count": 3,
   "metadata": {},
   "outputs": [],
   "source": [
    "from sklearn import datasets\n",
    "data=datasets.load_digits()"
   ]
  },
  {
   "cell_type": "code",
   "execution_count": 4,
   "metadata": {},
   "outputs": [
    {
     "output_type": "execute_result",
     "data": {
      "text/plain": [
       "{'data': array([[ 0.,  0.,  5., ...,  0.,  0.,  0.],\n",
       "        [ 0.,  0.,  0., ..., 10.,  0.,  0.],\n",
       "        [ 0.,  0.,  0., ..., 16.,  9.,  0.],\n",
       "        ...,\n",
       "        [ 0.,  0.,  1., ...,  6.,  0.,  0.],\n",
       "        [ 0.,  0.,  2., ..., 12.,  0.,  0.],\n",
       "        [ 0.,  0., 10., ..., 12.,  1.,  0.]]),\n",
       " 'target': array([0, 1, 2, ..., 8, 9, 8]),\n",
       " 'frame': None,\n",
       " 'feature_names': ['pixel_0_0',\n",
       "  'pixel_0_1',\n",
       "  'pixel_0_2',\n",
       "  'pixel_0_3',\n",
       "  'pixel_0_4',\n",
       "  'pixel_0_5',\n",
       "  'pixel_0_6',\n",
       "  'pixel_0_7',\n",
       "  'pixel_1_0',\n",
       "  'pixel_1_1',\n",
       "  'pixel_1_2',\n",
       "  'pixel_1_3',\n",
       "  'pixel_1_4',\n",
       "  'pixel_1_5',\n",
       "  'pixel_1_6',\n",
       "  'pixel_1_7',\n",
       "  'pixel_2_0',\n",
       "  'pixel_2_1',\n",
       "  'pixel_2_2',\n",
       "  'pixel_2_3',\n",
       "  'pixel_2_4',\n",
       "  'pixel_2_5',\n",
       "  'pixel_2_6',\n",
       "  'pixel_2_7',\n",
       "  'pixel_3_0',\n",
       "  'pixel_3_1',\n",
       "  'pixel_3_2',\n",
       "  'pixel_3_3',\n",
       "  'pixel_3_4',\n",
       "  'pixel_3_5',\n",
       "  'pixel_3_6',\n",
       "  'pixel_3_7',\n",
       "  'pixel_4_0',\n",
       "  'pixel_4_1',\n",
       "  'pixel_4_2',\n",
       "  'pixel_4_3',\n",
       "  'pixel_4_4',\n",
       "  'pixel_4_5',\n",
       "  'pixel_4_6',\n",
       "  'pixel_4_7',\n",
       "  'pixel_5_0',\n",
       "  'pixel_5_1',\n",
       "  'pixel_5_2',\n",
       "  'pixel_5_3',\n",
       "  'pixel_5_4',\n",
       "  'pixel_5_5',\n",
       "  'pixel_5_6',\n",
       "  'pixel_5_7',\n",
       "  'pixel_6_0',\n",
       "  'pixel_6_1',\n",
       "  'pixel_6_2',\n",
       "  'pixel_6_3',\n",
       "  'pixel_6_4',\n",
       "  'pixel_6_5',\n",
       "  'pixel_6_6',\n",
       "  'pixel_6_7',\n",
       "  'pixel_7_0',\n",
       "  'pixel_7_1',\n",
       "  'pixel_7_2',\n",
       "  'pixel_7_3',\n",
       "  'pixel_7_4',\n",
       "  'pixel_7_5',\n",
       "  'pixel_7_6',\n",
       "  'pixel_7_7'],\n",
       " 'target_names': array([0, 1, 2, 3, 4, 5, 6, 7, 8, 9]),\n",
       " 'images': array([[[ 0.,  0.,  5., ...,  1.,  0.,  0.],\n",
       "         [ 0.,  0., 13., ..., 15.,  5.,  0.],\n",
       "         [ 0.,  3., 15., ..., 11.,  8.,  0.],\n",
       "         ...,\n",
       "         [ 0.,  4., 11., ..., 12.,  7.,  0.],\n",
       "         [ 0.,  2., 14., ..., 12.,  0.,  0.],\n",
       "         [ 0.,  0.,  6., ...,  0.,  0.,  0.]],\n",
       " \n",
       "        [[ 0.,  0.,  0., ...,  5.,  0.,  0.],\n",
       "         [ 0.,  0.,  0., ...,  9.,  0.,  0.],\n",
       "         [ 0.,  0.,  3., ...,  6.,  0.,  0.],\n",
       "         ...,\n",
       "         [ 0.,  0.,  1., ...,  6.,  0.,  0.],\n",
       "         [ 0.,  0.,  1., ...,  6.,  0.,  0.],\n",
       "         [ 0.,  0.,  0., ..., 10.,  0.,  0.]],\n",
       " \n",
       "        [[ 0.,  0.,  0., ..., 12.,  0.,  0.],\n",
       "         [ 0.,  0.,  3., ..., 14.,  0.,  0.],\n",
       "         [ 0.,  0.,  8., ..., 16.,  0.,  0.],\n",
       "         ...,\n",
       "         [ 0.,  9., 16., ...,  0.,  0.,  0.],\n",
       "         [ 0.,  3., 13., ..., 11.,  5.,  0.],\n",
       "         [ 0.,  0.,  0., ..., 16.,  9.,  0.]],\n",
       " \n",
       "        ...,\n",
       " \n",
       "        [[ 0.,  0.,  1., ...,  1.,  0.,  0.],\n",
       "         [ 0.,  0., 13., ...,  2.,  1.,  0.],\n",
       "         [ 0.,  0., 16., ..., 16.,  5.,  0.],\n",
       "         ...,\n",
       "         [ 0.,  0., 16., ..., 15.,  0.,  0.],\n",
       "         [ 0.,  0., 15., ..., 16.,  0.,  0.],\n",
       "         [ 0.,  0.,  2., ...,  6.,  0.,  0.]],\n",
       " \n",
       "        [[ 0.,  0.,  2., ...,  0.,  0.,  0.],\n",
       "         [ 0.,  0., 14., ..., 15.,  1.,  0.],\n",
       "         [ 0.,  4., 16., ..., 16.,  7.,  0.],\n",
       "         ...,\n",
       "         [ 0.,  0.,  0., ..., 16.,  2.,  0.],\n",
       "         [ 0.,  0.,  4., ..., 16.,  2.,  0.],\n",
       "         [ 0.,  0.,  5., ..., 12.,  0.,  0.]],\n",
       " \n",
       "        [[ 0.,  0., 10., ...,  1.,  0.,  0.],\n",
       "         [ 0.,  2., 16., ...,  1.,  0.,  0.],\n",
       "         [ 0.,  0., 15., ..., 15.,  0.,  0.],\n",
       "         ...,\n",
       "         [ 0.,  4., 16., ..., 16.,  6.,  0.],\n",
       "         [ 0.,  8., 16., ..., 16.,  8.,  0.],\n",
       "         [ 0.,  1.,  8., ..., 12.,  1.,  0.]]]),\n",
       " 'DESCR': \".. _digits_dataset:\\n\\nOptical recognition of handwritten digits dataset\\n--------------------------------------------------\\n\\n**Data Set Characteristics:**\\n\\n    :Number of Instances: 5620\\n    :Number of Attributes: 64\\n    :Attribute Information: 8x8 image of integer pixels in the range 0..16.\\n    :Missing Attribute Values: None\\n    :Creator: E. Alpaydin (alpaydin '@' boun.edu.tr)\\n    :Date: July; 1998\\n\\nThis is a copy of the test set of the UCI ML hand-written digits datasets\\nhttps://archive.ics.uci.edu/ml/datasets/Optical+Recognition+of+Handwritten+Digits\\n\\nThe data set contains images of hand-written digits: 10 classes where\\neach class refers to a digit.\\n\\nPreprocessing programs made available by NIST were used to extract\\nnormalized bitmaps of handwritten digits from a preprinted form. From a\\ntotal of 43 people, 30 contributed to the training set and different 13\\nto the test set. 32x32 bitmaps are divided into nonoverlapping blocks of\\n4x4 and the number of on pixels are counted in each block. This generates\\nan input matrix of 8x8 where each element is an integer in the range\\n0..16. This reduces dimensionality and gives invariance to small\\ndistortions.\\n\\nFor info on NIST preprocessing routines, see M. D. Garris, J. L. Blue, G.\\nT. Candela, D. L. Dimmick, J. Geist, P. J. Grother, S. A. Janet, and C.\\nL. Wilson, NIST Form-Based Handprint Recognition System, NISTIR 5469,\\n1994.\\n\\n.. topic:: References\\n\\n  - C. Kaynak (1995) Methods of Combining Multiple Classifiers and Their\\n    Applications to Handwritten Digit Recognition, MSc Thesis, Institute of\\n    Graduate Studies in Science and Engineering, Bogazici University.\\n  - E. Alpaydin, C. Kaynak (1998) Cascading Classifiers, Kybernetika.\\n  - Ken Tang and Ponnuthurai N. Suganthan and Xi Yao and A. Kai Qin.\\n    Linear dimensionalityreduction using relevance weighted LDA. School of\\n    Electrical and Electronic Engineering Nanyang Technological University.\\n    2005.\\n  - Claudio Gentile. A New Approximate Maximal Margin Classification\\n    Algorithm. NIPS. 2000.\"}"
      ]
     },
     "metadata": {},
     "execution_count": 4
    }
   ],
   "source": [
    "data"
   ]
  },
  {
   "cell_type": "code",
   "execution_count": 5,
   "metadata": {},
   "outputs": [
    {
     "output_type": "execute_result",
     "data": {
      "text/plain": [
       "dict_keys(['data', 'target', 'frame', 'feature_names', 'target_names', 'images', 'DESCR'])"
      ]
     },
     "metadata": {},
     "execution_count": 5
    }
   ],
   "source": [
    "data.keys()"
   ]
  },
  {
   "cell_type": "code",
   "execution_count": 7,
   "metadata": {},
   "outputs": [
    {
     "output_type": "execute_result",
     "data": {
      "text/plain": [
       "(1797, 64)"
      ]
     },
     "metadata": {},
     "execution_count": 7
    }
   ],
   "source": [
    "data.data.shape"
   ]
  },
  {
   "cell_type": "code",
   "execution_count": 13,
   "metadata": {},
   "outputs": [],
   "source": [
    "from sklearn.model_selection import train_test_split\n",
    "x=data.data\n",
    "y=data.target\n",
    "\n",
    "x_train,x_test,y_train,y_test=train_test_split(x,y,test_size=0.3,random_state=12,stratify=y)\n"
   ]
  },
  {
   "cell_type": "code",
   "execution_count": 14,
   "metadata": {},
   "outputs": [
    {
     "output_type": "execute_result",
     "data": {
      "text/plain": [
       "KNeighborsClassifier(n_neighbors=7)"
      ]
     },
     "metadata": {},
     "execution_count": 14
    }
   ],
   "source": [
    "from sklearn.neighbors import KNeighborsClassifier\n",
    "\n",
    "knn=KNeighborsClassifier(n_neighbors=7)\n",
    "knn.fit(x_train,y_train)\n"
   ]
  },
  {
   "cell_type": "code",
   "execution_count": 15,
   "metadata": {},
   "outputs": [],
   "source": [
    "y_pred=knn.predict(x_test)"
   ]
  },
  {
   "cell_type": "code",
   "execution_count": 21,
   "metadata": {},
   "outputs": [
    {
     "output_type": "execute_result",
     "data": {
      "text/plain": [
       "(array([2, 7, 1, 8, 8, 9, 2, 7, 8, 2, 3, 3, 3, 3, 6, 3, 7, 0, 9, 4, 4, 4,\n",
       "        4, 5, 1, 4, 9, 5, 7, 6, 6, 1, 5, 8, 6, 4, 1, 6, 2, 1, 8, 5, 4, 0,\n",
       "        9, 2, 4, 1, 9, 7, 2, 3, 6, 8, 4, 4, 9, 9, 1, 8, 6, 4, 1, 6, 5, 3,\n",
       "        8, 9, 5, 2, 3, 6, 3, 3, 5, 8, 0, 4, 9, 4, 8, 9, 9, 6, 9, 5, 6, 4,\n",
       "        3, 0, 9, 8, 2, 1, 8, 8, 5, 0, 1, 5, 0, 2, 7, 1, 9, 6, 9, 1, 0, 0,\n",
       "        4, 7, 9, 5, 5, 7, 4, 3, 3, 7, 5, 3, 1, 5, 3, 0, 8, 8, 3, 2, 9, 0,\n",
       "        2, 7, 1, 0, 5, 1, 0, 5, 6, 7, 6, 0, 8, 1, 9, 4, 0, 5, 2, 3, 5, 0,\n",
       "        9, 4, 8, 9, 8, 0, 4, 2, 6, 0, 7, 1, 3, 4, 7, 1, 7, 3, 9, 0, 2, 9,\n",
       "        4, 4, 5, 2, 0, 4, 7, 5, 5, 6, 5, 2, 7, 9, 7, 8, 7, 3, 6, 6, 7, 1,\n",
       "        2, 0, 1, 4, 4, 7, 9, 0, 6, 3, 2, 5, 3, 8, 5, 4, 6, 9, 6, 4, 7, 8,\n",
       "        3, 2, 1, 5, 5, 5, 8, 6, 1, 2, 4, 2, 1, 2, 3, 6, 6, 8, 6, 1, 6, 7,\n",
       "        3, 3, 0, 1, 4, 6, 3, 0, 2, 0, 5, 3, 4, 4, 7, 3, 8, 6, 6, 2, 9, 6,\n",
       "        0, 2, 6, 5, 7, 6, 3, 0, 1, 1, 0, 4, 1, 2, 7, 0, 1, 0, 6, 7, 8, 7,\n",
       "        0, 2, 2, 8, 2, 1, 2, 5, 8, 9, 0, 9, 4, 6, 9, 6, 3, 7, 1, 3, 1, 9,\n",
       "        4, 4, 8, 6, 8, 9, 4, 9, 3, 4, 4, 4, 2, 7, 2, 8, 5, 3, 3, 0, 4, 6,\n",
       "        2, 7, 7, 9, 2, 0, 7, 1, 7, 7, 9, 7, 3, 1, 6, 9, 3, 4, 5, 6, 7, 3,\n",
       "        9, 0, 8, 0, 3, 2, 1, 7, 5, 8, 0, 2, 1, 2, 7, 3, 5, 5, 0, 7, 0, 5,\n",
       "        6, 4, 3, 1, 5, 3, 9, 0, 9, 4, 5, 2, 6, 1, 7, 3, 0, 8, 0, 9, 2, 6,\n",
       "        5, 1, 2, 4, 2, 8, 0, 6, 7, 2, 4, 1, 9, 8, 1, 9, 3, 1, 6, 2, 7, 4,\n",
       "        8, 8, 1, 9, 0, 2, 4, 1, 3, 5, 9, 0, 2, 7, 4, 1, 9, 1, 2, 7, 7, 0,\n",
       "        6, 8, 8, 2, 3, 4, 1, 8, 2, 9, 0, 3, 3, 6, 9, 0, 9, 8, 3, 1, 5, 5,\n",
       "        0, 7, 7, 4, 3, 7, 8, 1, 8, 7, 1, 5, 3, 9, 0, 5, 1, 8, 9, 8, 7, 5,\n",
       "        2, 9, 4, 4, 7, 3, 2, 7, 9, 1, 5, 7, 6, 9, 8, 5, 1, 2, 8, 8, 4, 6,\n",
       "        6, 5, 0, 9, 3, 0, 6, 5, 5, 0, 2, 3, 5, 5, 6, 8, 0, 8, 5, 2, 8, 4,\n",
       "        5, 5, 1, 6, 6, 3, 0, 6, 9, 7, 8, 1]),\n",
       " array([2, 7, 1, 8, 8, 9, 2, 7, 8, 2, 3, 3, 3, 3, 6, 3, 7, 0, 9, 4, 7, 4,\n",
       "        4, 5, 1, 4, 9, 5, 7, 6, 6, 1, 5, 8, 6, 4, 1, 6, 2, 1, 8, 5, 4, 0,\n",
       "        9, 2, 4, 1, 9, 7, 2, 3, 6, 8, 4, 4, 9, 9, 1, 8, 6, 4, 1, 6, 5, 3,\n",
       "        8, 9, 5, 2, 3, 6, 3, 3, 5, 8, 0, 4, 9, 4, 8, 9, 9, 6, 9, 5, 6, 4,\n",
       "        3, 0, 9, 8, 2, 1, 8, 8, 5, 0, 1, 5, 0, 2, 7, 1, 9, 6, 9, 1, 0, 0,\n",
       "        4, 7, 9, 5, 5, 7, 4, 3, 3, 7, 5, 3, 1, 5, 3, 0, 8, 8, 3, 7, 9, 0,\n",
       "        2, 7, 1, 0, 5, 1, 0, 5, 6, 7, 6, 0, 1, 1, 9, 4, 0, 5, 2, 3, 5, 0,\n",
       "        9, 4, 8, 9, 8, 0, 4, 2, 6, 0, 7, 1, 3, 4, 7, 1, 7, 3, 9, 0, 2, 9,\n",
       "        4, 4, 5, 2, 0, 4, 7, 5, 5, 6, 5, 2, 7, 9, 7, 8, 7, 3, 6, 6, 7, 1,\n",
       "        2, 0, 1, 4, 4, 7, 9, 0, 6, 3, 2, 5, 3, 8, 5, 4, 6, 9, 6, 4, 7, 8,\n",
       "        3, 2, 1, 5, 5, 5, 8, 6, 1, 2, 4, 2, 1, 2, 3, 6, 6, 1, 6, 1, 6, 7,\n",
       "        3, 3, 0, 1, 4, 6, 3, 0, 2, 0, 5, 7, 4, 4, 7, 3, 3, 6, 6, 2, 9, 6,\n",
       "        0, 2, 6, 5, 7, 6, 3, 0, 1, 1, 0, 4, 1, 2, 7, 0, 1, 0, 6, 7, 8, 7,\n",
       "        0, 2, 2, 8, 2, 1, 2, 5, 1, 9, 0, 5, 4, 6, 9, 6, 3, 7, 1, 3, 1, 9,\n",
       "        4, 4, 8, 6, 8, 9, 4, 9, 3, 4, 4, 4, 2, 7, 2, 8, 5, 3, 3, 0, 4, 6,\n",
       "        2, 7, 7, 9, 2, 0, 7, 1, 7, 7, 9, 7, 3, 1, 6, 9, 3, 4, 5, 6, 7, 3,\n",
       "        9, 0, 8, 0, 3, 2, 1, 7, 5, 8, 0, 2, 1, 2, 7, 3, 5, 5, 0, 7, 0, 5,\n",
       "        6, 4, 3, 1, 5, 3, 9, 0, 9, 4, 5, 2, 6, 1, 7, 3, 0, 8, 0, 9, 2, 6,\n",
       "        5, 1, 2, 4, 2, 8, 0, 6, 7, 2, 4, 1, 9, 8, 1, 9, 3, 1, 6, 2, 7, 4,\n",
       "        8, 8, 1, 9, 0, 2, 4, 1, 3, 5, 9, 0, 2, 7, 4, 1, 9, 1, 2, 7, 7, 0,\n",
       "        6, 8, 8, 2, 3, 4, 1, 8, 2, 9, 0, 3, 3, 6, 9, 0, 9, 1, 3, 1, 5, 5,\n",
       "        0, 7, 7, 4, 3, 7, 8, 1, 8, 7, 1, 5, 3, 9, 0, 5, 1, 8, 9, 8, 7, 5,\n",
       "        2, 9, 4, 4, 7, 3, 2, 7, 9, 1, 5, 7, 6, 9, 8, 5, 1, 2, 8, 8, 4, 6,\n",
       "        6, 5, 0, 9, 3, 0, 6, 5, 5, 0, 2, 3, 5, 5, 6, 8, 0, 8, 5, 2, 8, 4,\n",
       "        5, 5, 1, 6, 6, 3, 0, 6, 9, 7, 8, 1]))"
      ]
     },
     "metadata": {},
     "execution_count": 21
    }
   ],
   "source": [
    "y_test,y_pred"
   ]
  },
  {
   "cell_type": "code",
   "execution_count": 23,
   "metadata": {},
   "outputs": [
    {
     "output_type": "execute_result",
     "data": {
      "text/plain": [
       "0.9833333333333333"
      ]
     },
     "metadata": {},
     "execution_count": 23
    }
   ],
   "source": [
    "knn.score(x_test,y_test)"
   ]
  },
  {
   "cell_type": "code",
   "execution_count": null,
   "metadata": {},
   "outputs": [],
   "source": []
  }
 ]
}